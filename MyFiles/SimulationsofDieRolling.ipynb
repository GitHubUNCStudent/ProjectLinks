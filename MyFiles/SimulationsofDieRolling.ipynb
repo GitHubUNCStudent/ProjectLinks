{
 "cells": [
  {
   "cell_type": "markdown",
   "metadata": {},
   "source": [
    "# <span style=\"color:blue\">Diane Rodden</span>"
   ]
  },
  {
   "cell_type": "markdown",
   "metadata": {},
   "source": [
    "# Various simulations of rolling 1 die\n",
    "##    Uses: Python Jupyter Notebook\n",
    "##    Includes: codes, results, discussion and an extension exercise"
   ]
  },
  {
   "cell_type": "markdown",
   "metadata": {},
   "source": [
    "## Other notes\n",
    "- The number of sides on the die and the lowest starting number on the die are stored in variables for flexibility\n",
    "- The number of times that the die will be rolled is also stored in a variable so the value can be easily changed\n",
    "- Assume a fair die"
   ]
  },
  {
   "cell_type": "markdown",
   "metadata": {},
   "source": [
    "## Preliminaries"
   ]
  },
  {
   "cell_type": "code",
   "execution_count": 1,
   "metadata": {},
   "outputs": [],
   "source": [
    "# Import libraries\n",
    "import random\n",
    "from collections import Counter\n",
    "from math import sqrt\n",
    "import statistics"
   ]
  },
  {
   "cell_type": "code",
   "execution_count": 2,
   "metadata": {},
   "outputs": [],
   "source": [
    "# Set random seed for reproducibility\n",
    "random.seed(607)"
   ]
  },
  {
   "cell_type": "code",
   "execution_count": 3,
   "metadata": {},
   "outputs": [],
   "source": [
    "# Initialize values using the example of a 20 sided die, with lowest value 1 and highest value of 20\n",
    "\n",
    "# Store number of sides on die\n",
    "sides = 20\n",
    "\n",
    "# Set starting number on die\n",
    "lowest = 1\n",
    "\n",
    "# Calculate highest number on die\n",
    "highest =  lowest + sides - 1"
   ]
  },
  {
   "cell_type": "code",
   "execution_count": 4,
   "metadata": {},
   "outputs": [],
   "source": [
    "# Also initialize the value for the number of rolls\n",
    "n = 1"
   ]
  },
  {
   "cell_type": "markdown",
   "metadata": {},
   "source": [
    " "
   ]
  },
  {
   "cell_type": "markdown",
   "metadata": {},
   "source": [
    "## Create functions"
   ]
  },
  {
   "cell_type": "code",
   "execution_count": 5,
   "metadata": {},
   "outputs": [],
   "source": [
    "# Function to roll die r times and store results in list\n",
    "def RollDieFunction(r):\n",
    "    \n",
    "    # Create a list to store the results of all of the rolls\n",
    "    rollsList = []\n",
    "\n",
    "    # Roll the die\n",
    "    for i in range(r):\n",
    "        result = random.randint(lowest, highest)\n",
    "        rollsList.append(result)\n",
    "\n",
    "    return rollsList;"
   ]
  },
  {
   "cell_type": "code",
   "execution_count": 6,
   "metadata": {},
   "outputs": [],
   "source": [
    "# Function to print results\n",
    "def PrintResultsFunction():\n",
    "    print(f\"The results of the {n} die rolls with a {sides}-sided die are:  {rollsList}\");\n"
   ]
  },
  {
   "cell_type": "code",
   "execution_count": 7,
   "metadata": {},
   "outputs": [],
   "source": [
    "# Function for a frequency distribtion to understand the data better\n",
    "def FreqDistFunction():\n",
    "    counts = Counter(rollsList)\n",
    "    print(f\"The frequency distribution is: {counts}\");"
   ]
  },
  {
   "cell_type": "code",
   "execution_count": 8,
   "metadata": {},
   "outputs": [],
   "source": [
    "# Function to get the average of the n die rolls \n",
    "def AverageFunction(): \n",
    "    return sum(rollsList) / len(rollsList);  "
   ]
  },
  {
   "cell_type": "code",
   "execution_count": 9,
   "metadata": {},
   "outputs": [],
   "source": [
    "# Function to calculate standard deviation of the n die rolls manually\n",
    "# IMPORTANT: Assumes that the die rolls are a sample of all the possible dice rolls in the population\n",
    "def StdDevFunction():\n",
    "    \n",
    "    sumSqrdDiff = 0\n",
    "    \n",
    "    for j in rollsList:\n",
    "        SqrdDiff = (j - theAverage)**2\n",
    "        sumSqrdDiff = sumSqrdDiff + SqrdDiff\n",
    "        \n",
    "    theVariance = sumSqrdDiff / (len(rollsList) - 1)\n",
    "                                   \n",
    "    return sqrt(theVariance);"
   ]
  },
  {
   "cell_type": "code",
   "execution_count": 10,
   "metadata": {},
   "outputs": [],
   "source": [
    "#  Function to double check standard deviation using  for the n die rolls\n",
    "# IMPORTANT: Assumes that the die rolls are a sample of all the possible dice rolls in the population\n",
    "def BuiltInStdDevFunction():\n",
    "    theStdDev2 = statistics.stdev(rollsList)\n",
    "    return theStdDev2;"
   ]
  },
  {
   "cell_type": "markdown",
   "metadata": {},
   "source": [
    " "
   ]
  },
  {
   "cell_type": "markdown",
   "metadata": {},
   "source": [
    "## Call the die rolling, results, average and std deviation functions for 100 rolls of the die"
   ]
  },
  {
   "cell_type": "code",
   "execution_count": 11,
   "metadata": {},
   "outputs": [],
   "source": [
    "n = 100"
   ]
  },
  {
   "cell_type": "code",
   "execution_count": 12,
   "metadata": {},
   "outputs": [
    {
     "name": "stdout",
     "output_type": "stream",
     "text": [
      "The results of the 100 die rolls with a 20-sided die are:  [3, 4, 5, 11, 2, 6, 17, 8, 1, 6, 4, 15, 2, 15, 15, 10, 19, 20, 4, 3, 14, 8, 4, 14, 2, 2, 18, 20, 9, 10, 3, 8, 1, 5, 11, 1, 8, 6, 9, 18, 20, 6, 12, 14, 20, 20, 16, 14, 18, 16, 10, 17, 14, 13, 6, 7, 9, 12, 10, 17, 17, 14, 17, 2, 8, 5, 11, 7, 12, 12, 10, 7, 1, 9, 3, 15, 2, 12, 20, 20, 17, 10, 9, 18, 6, 15, 11, 20, 19, 15, 2, 8, 15, 7, 1, 15, 15, 12, 12, 11]\n"
     ]
    }
   ],
   "source": [
    "# First call the function to roll die and store results in a list\n",
    "rollsList = RollDieFunction(n)\n",
    "\n",
    "# Call the function to print the results\n",
    "PrintResultsFunction()"
   ]
  },
  {
   "cell_type": "code",
   "execution_count": 13,
   "metadata": {},
   "outputs": [
    {
     "name": "stdout",
     "output_type": "stream",
     "text": [
      "The frequency distribution is: Counter({15: 9, 20: 8, 2: 7, 12: 7, 6: 6, 17: 6, 8: 6, 10: 6, 14: 6, 11: 5, 1: 5, 9: 5, 3: 4, 4: 4, 18: 4, 7: 4, 5: 3, 19: 2, 16: 2, 13: 1})\n"
     ]
    }
   ],
   "source": [
    "# Call the function to print the frequency distribution\n",
    "FreqDistFunction()"
   ]
  },
  {
   "cell_type": "code",
   "execution_count": 14,
   "metadata": {},
   "outputs": [
    {
     "name": "stdout",
     "output_type": "stream",
     "text": [
      "The average of 100 rolls of the die with a 20-sided die is 10.54.\n"
     ]
    }
   ],
   "source": [
    "# Call the function to find the average of the results\n",
    "theAverage = AverageFunction()\n",
    "print(f\"The average of {n} rolls of the die with a {sides}-sided die is {theAverage}.\")"
   ]
  },
  {
   "cell_type": "code",
   "execution_count": 15,
   "metadata": {},
   "outputs": [
    {
     "name": "stdout",
     "output_type": "stream",
     "text": [
      "The standard deviation of the sample of 100 rolls of the die with a 20-sided die is 5.81433269141564.\n",
      "Using the built-in standard deviation function for a sample, the standard deviation is 5.814332691415641.\n"
     ]
    }
   ],
   "source": [
    "# Call the manual standard deviation function\n",
    "theStdDev = StdDevFunction()\n",
    "print(f\"The standard deviation of the sample of {n} rolls of the die with a {sides}-sided die is {theStdDev}.\")\n",
    "\n",
    "\n",
    "# Call the built-in standard deviation function\n",
    "theStdDev2 = BuiltInStdDevFunction()\n",
    "print(f\"Using the built-in standard deviation function for a sample, the standard deviation is {theStdDev2}.\")"
   ]
  },
  {
   "cell_type": "markdown",
   "metadata": {},
   "source": [
    " "
   ]
  },
  {
   "cell_type": "markdown",
   "metadata": {},
   "source": [
    "## As a comparison, call the die rolling, results, average and std deviation functions for 5 rolls of the die"
   ]
  },
  {
   "cell_type": "code",
   "execution_count": 16,
   "metadata": {},
   "outputs": [],
   "source": [
    "n = 5"
   ]
  },
  {
   "cell_type": "code",
   "execution_count": 17,
   "metadata": {},
   "outputs": [
    {
     "name": "stdout",
     "output_type": "stream",
     "text": [
      "The results of the 5 die rolls with a 20-sided die are:  [13, 14, 15, 13, 2]\n"
     ]
    }
   ],
   "source": [
    "# First call the function to roll die and store results in a list\n",
    "rollsList = RollDieFunction(n)\n",
    "\n",
    "# Call the function to print the results\n",
    "PrintResultsFunction()"
   ]
  },
  {
   "cell_type": "code",
   "execution_count": 18,
   "metadata": {},
   "outputs": [
    {
     "name": "stdout",
     "output_type": "stream",
     "text": [
      "The average of 5 rolls of the die with a 20-sided die is 11.4.\n",
      "The standard deviation of the sample of 5 rolls of the die with a 20-sided die is 5.319774431308154.\n"
     ]
    }
   ],
   "source": [
    "# Call the function to find the average of the results\n",
    "theAverage = AverageFunction()\n",
    "print(f\"The average of {n} rolls of the die with a {sides}-sided die is {theAverage}.\")\n",
    "\n",
    "# Call the manual standard deviation function\n",
    "theStdDev = StdDevFunction()\n",
    "print(f\"The standard deviation of the sample of {n} rolls of the die with a {sides}-sided die is {theStdDev}.\")"
   ]
  },
  {
   "cell_type": "markdown",
   "metadata": {},
   "source": [
    "## Next, call the die rolling, results, average and std deviation functions for 50 rolls of the die"
   ]
  },
  {
   "cell_type": "code",
   "execution_count": 19,
   "metadata": {},
   "outputs": [],
   "source": [
    "n = 50"
   ]
  },
  {
   "cell_type": "code",
   "execution_count": 20,
   "metadata": {},
   "outputs": [
    {
     "name": "stdout",
     "output_type": "stream",
     "text": [
      "The results of the 50 die rolls with a 20-sided die are:  [20, 16, 1, 11, 12, 15, 7, 11, 8, 8, 18, 9, 5, 15, 6, 8, 13, 20, 9, 19, 11, 20, 16, 20, 5, 14, 4, 10, 12, 4, 13, 18, 5, 5, 2, 3, 8, 10, 9, 1, 2, 17, 15, 5, 5, 10, 7, 9, 13, 19]\n"
     ]
    }
   ],
   "source": [
    "# First call the function to roll die and store results in a list\n",
    "rollsList = RollDieFunction(n)\n",
    "\n",
    "# Call the function to print the results\n",
    "PrintResultsFunction()"
   ]
  },
  {
   "cell_type": "code",
   "execution_count": 21,
   "metadata": {},
   "outputs": [
    {
     "name": "stdout",
     "output_type": "stream",
     "text": [
      "The average of 50 rolls of the die with a 20-sided die is 10.46.\n",
      "The standard deviation of the sample of 50 rolls of the die with a 20-sided die is 5.614158486381025.\n"
     ]
    }
   ],
   "source": [
    "# Call the function to find the average of the results\n",
    "theAverage = AverageFunction()\n",
    "print(f\"The average of {n} rolls of the die with a {sides}-sided die is {theAverage}.\")\n",
    "\n",
    "# Call the manual standard deviation function\n",
    "theStdDev = StdDevFunction()\n",
    "print(f\"The standard deviation of the sample of {n} rolls of the die with a {sides}-sided die is {theStdDev}.\")"
   ]
  },
  {
   "cell_type": "markdown",
   "metadata": {},
   "source": [
    "## Then, call the die rolling, results, average and std deviation functions for 200 rolls of the die"
   ]
  },
  {
   "cell_type": "code",
   "execution_count": 22,
   "metadata": {},
   "outputs": [],
   "source": [
    "n = 200"
   ]
  },
  {
   "cell_type": "code",
   "execution_count": 23,
   "metadata": {},
   "outputs": [
    {
     "name": "stdout",
     "output_type": "stream",
     "text": [
      "The frequency distribution is: Counter({12: 16, 5: 12, 13: 12, 7: 12, 6: 12, 4: 11, 18: 11, 2: 10, 17: 10, 1: 10, 10: 10, 14: 9, 3: 9, 19: 9, 20: 9, 15: 9, 8: 8, 16: 8, 11: 7, 9: 6})\n"
     ]
    }
   ],
   "source": [
    "# First call the function to roll die and store results in a list\n",
    "rollsList = RollDieFunction(n)\n",
    "\n",
    "# Call the function to print the frequency distribution\n",
    "FreqDistFunction()"
   ]
  },
  {
   "cell_type": "code",
   "execution_count": 24,
   "metadata": {},
   "outputs": [
    {
     "name": "stdout",
     "output_type": "stream",
     "text": [
      "The average of 200 rolls of the die with a 20-sided die is 10.34.\n",
      "The standard deviation of the sample of 200 rolls of the die with a 20-sided die is 5.741885250608532.\n"
     ]
    }
   ],
   "source": [
    "# Call the function to find the average of the results\n",
    "theAverage = AverageFunction()\n",
    "print(f\"The average of {n} rolls of the die with a {sides}-sided die is {theAverage}.\")\n",
    "\n",
    "# Call the manual standard deviation function\n",
    "theStdDev = StdDevFunction()\n",
    "print(f\"The standard deviation of the sample of {n} rolls of the die with a {sides}-sided die is {theStdDev}.\")"
   ]
  },
  {
   "cell_type": "markdown",
   "metadata": {},
   "source": [
    "## Now, call the die rolling, results, average and std deviation functions for 1,000 rolls of the die"
   ]
  },
  {
   "cell_type": "code",
   "execution_count": 25,
   "metadata": {},
   "outputs": [],
   "source": [
    "n = 1000"
   ]
  },
  {
   "cell_type": "code",
   "execution_count": 26,
   "metadata": {},
   "outputs": [
    {
     "name": "stdout",
     "output_type": "stream",
     "text": [
      "The frequency distribution is: Counter({19: 58, 3: 57, 13: 57, 4: 55, 8: 55, 5: 54, 6: 54, 1: 53, 20: 53, 12: 52, 14: 51, 15: 49, 18: 49, 9: 47, 2: 46, 11: 46, 16: 45, 17: 44, 7: 40, 10: 35})\n"
     ]
    }
   ],
   "source": [
    "# First call the function to roll die and store results in a list\n",
    "rollsList = RollDieFunction(n)\n",
    "\n",
    "# Call the function to print the frequency distribution\n",
    "FreqDistFunction()"
   ]
  },
  {
   "cell_type": "code",
   "execution_count": 27,
   "metadata": {},
   "outputs": [
    {
     "name": "stdout",
     "output_type": "stream",
     "text": [
      "The average of 1000 rolls of the die with a 20-sided die is 10.455.\n",
      "The standard deviation of the sample of 1000 rolls of the die with a 20-sided die is 5.86484197326503.\n"
     ]
    }
   ],
   "source": [
    "# Call the function to find the average of the results\n",
    "theAverage = AverageFunction()\n",
    "print(f\"The average of {n} rolls of the die with a {sides}-sided die is {theAverage}.\")\n",
    "\n",
    "# Call the manual standard deviation function\n",
    "theStdDev = StdDevFunction()\n",
    "print(f\"The standard deviation of the sample of {n} rolls of the die with a {sides}-sided die is {theStdDev}.\")"
   ]
  },
  {
   "cell_type": "markdown",
   "metadata": {},
   "source": [
    "## Finally, call the die rolling, results, average and std deviation functions for 50,000 rolls of the die"
   ]
  },
  {
   "cell_type": "code",
   "execution_count": 28,
   "metadata": {},
   "outputs": [],
   "source": [
    "n = 50000"
   ]
  },
  {
   "cell_type": "code",
   "execution_count": 29,
   "metadata": {},
   "outputs": [
    {
     "name": "stdout",
     "output_type": "stream",
     "text": [
      "The frequency distribution is: Counter({2: 2566, 3: 2565, 8: 2554, 15: 2551, 16: 2529, 12: 2525, 4: 2520, 17: 2512, 14: 2512, 5: 2511, 19: 2502, 13: 2500, 6: 2492, 7: 2486, 20: 2472, 10: 2464, 9: 2462, 18: 2456, 11: 2433, 1: 2388})\n"
     ]
    }
   ],
   "source": [
    "# First call the function to roll die and store results in a list\n",
    "rollsList = RollDieFunction(n)\n",
    "\n",
    "# Call the function to print the frequency distribution\n",
    "FreqDistFunction()"
   ]
  },
  {
   "cell_type": "code",
   "execution_count": 30,
   "metadata": {
    "scrolled": true
   },
   "outputs": [
    {
     "name": "stdout",
     "output_type": "stream",
     "text": [
      "The average of 50000 rolls of the die with a 20-sided die is 10.49568.\n",
      "The standard deviation of the sample of 50000 rolls of the die with a 20-sided die is 5.761392645055505.\n"
     ]
    }
   ],
   "source": [
    "# Call the function to find the average of the results\n",
    "theAverage = AverageFunction()\n",
    "print(f\"The average of {n} rolls of the die with a {sides}-sided die is {theAverage}.\")\n",
    "\n",
    "# Call the manual standard deviation function\n",
    "theStdDev = StdDevFunction()\n",
    "print(f\"The standard deviation of the sample of {n} rolls of the die with a {sides}-sided die is {theStdDev}.\")"
   ]
  },
  {
   "cell_type": "markdown",
   "metadata": {},
   "source": [
    " "
   ]
  },
  {
   "cell_type": "markdown",
   "metadata": {},
   "source": [
    "## Expected value for a single roll of the same die"
   ]
  },
  {
   "cell_type": "markdown",
   "metadata": {},
   "source": [
    "### The general formula for the expected value for a probability distribution is\n",
    "\n",
    "E(x) =  ($x_{1}$ * p($x_{1}$))  + ($x_{2}$ * p($x_{2}$)) + ($x_{3}$ * p($x_{3}$)) + ...  for all of the possible values for x\n",
    "     where p($x_{1}$) is the probability of $x_{1}$,  p($x_{2}$) is the probability of $x_{2}$ and so forth\n",
    "\n",
    "\n",
    "For rolls of the die:\n",
    "- p is 1/number of sides since this is a fair die\n",
    "- The possible values of x are the values on the die. For instance, using a 6-sided die with lowest value of 1, the possible values of x are 1,2,3,4,5,6"
   ]
  },
  {
   "cell_type": "code",
   "execution_count": 31,
   "metadata": {},
   "outputs": [
    {
     "name": "stdout",
     "output_type": "stream",
     "text": [
      "The possible values of x are: [1, 2, 3, 4, 5, 6, 7, 8, 9, 10, 11, 12, 13, 14, 15, 16, 17, 18, 19, 20]\n",
      "The E(x) is: 10.5, which is the mean of the probability distribution\n",
      "of one roll of a 20-sided die\n"
     ]
    }
   ],
   "source": [
    "# Calculations\n",
    "\n",
    "# p\n",
    "p = 1/sides\n",
    "\n",
    "# Create a list of possible values of x\n",
    "\n",
    "# Initialize list\n",
    "possibleX = []\n",
    "\n",
    "# Populate list\n",
    "for k in range(lowest,highest+1):\n",
    "    possibleX.append(k)\n",
    "\n",
    "# Check list\n",
    "print(f\"The possible values of x are: {possibleX}\")\n",
    "\n",
    "\n",
    "# Find E(x)\n",
    "ExpectedX = 0\n",
    "for m in possibleX:\n",
    "    ExpectedX = ExpectedX + (m * p)\n",
    "\n",
    "    \n",
    "print(f\"The E(x) is: {ExpectedX}, which is the mean of the probability distribution\")\n",
    "print(f\"of one roll of a {sides}-sided die\")"
   ]
  },
  {
   "cell_type": "markdown",
   "metadata": {},
   "source": [
    "# Standard deviation for a single roll of the die\n",
    "    \n",
    "### The formula for variance in general for a probability distribution is\n",
    "Variance =( ($x_{1}$ - mu)$^{2}$  *  p($x_{1}$) )   +  ( ($x_{2}$ - mu)$^{2}$  *  p($x_{2}$) )  +  ( ($x_{3}$ - mu)$^{2}$  *  p($x_{3}$) )  +  ...\n",
    "\n",
    "\n",
    " for all of the possible values for x  where p($x_{1}$) is the probability of $x_{1}$,  p($x_{2}$) is the probability of $x_{2}$ and so forth and where mu is the Expected value of x\n",
    "\n",
    "\n",
    "\n",
    "### The standard deviation formula is then\n",
    "StdDev = $\\sqrt{Variance}$\n",
    "\n",
    "\n",
    "\n",
    "\n",
    "     \n",
    "\n",
    "\n",
    "For rolls of the die:\n",
    "- p is 1/number of sides since this is a fair die\n",
    "- the possible values of x are the values on the die\n",
    "- for a 6-sided die with lowest value of 1, the possible values of x are 1,2,3,4,5,6"
   ]
  },
  {
   "cell_type": "code",
   "execution_count": 32,
   "metadata": {},
   "outputs": [
    {
     "name": "stdout",
     "output_type": "stream",
     "text": [
      "The standard deviation of the probability distribution of one roll of a 20-sided die is 5.766281297335398\n"
     ]
    }
   ],
   "source": [
    "# Find standard deviation\n",
    "sumProbSqrdDiff = 0\n",
    "\n",
    "for b in possibleX:\n",
    "    SqrdDiff = (b - ExpectedX)**2\n",
    "    ProbSqrdDiff = p * SqrdDiff\n",
    "    sumProbSqrdDiff = sumProbSqrdDiff + ProbSqrdDiff\n",
    "\n",
    "    \n",
    "DistVariance = sumProbSqrdDiff\n",
    "DistStdDev  = sqrt(DistVariance)\n",
    "                          \n",
    "  \n",
    "print(f\"The standard deviation of the probability distribution of one roll of a {sides}-sided die is {DistStdDev}\")"
   ]
  },
  {
   "cell_type": "markdown",
   "metadata": {},
   "source": [
    " "
   ]
  },
  {
   "cell_type": "markdown",
   "metadata": {},
   "source": [
    "## Results"
   ]
  },
  {
   "cell_type": "markdown",
   "metadata": {},
   "source": [
    "The results* of the simulated die rolls are as follows:\n",
    "\n",
    "| Number of rolls in sample | Average | Sample Std Deviation |\n",
    "| :- | -: | :-: |\n",
    "| 5 | 11.40 | 5.3198 |\n",
    "| 50 | 10.46| 5.6142 |\n",
    "| 100 | 10.54 | 5.8143 |\n",
    "| 200 | 10.34 | 5.7419 |\n",
    "| 1000 | 10.46 | 5.8648 |\n",
    "| 50000 | 10.50 |  5.7614 |\n",
    "\n",
    "Expected value of the probability distribution is 10.50\n",
    "\n",
    "Std deviation of the probability distribution is 5.7663 "
   ]
  },
  {
   "cell_type": "code",
   "execution_count": 33,
   "metadata": {},
   "outputs": [
    {
     "name": "stdout",
     "output_type": "stream",
     "text": [
      "*Based on simulations using a 20-sided die with 1 lowest value and 20 highest value.\n"
     ]
    }
   ],
   "source": [
    "print(f\"*Based on simulations using a {sides}-sided die with {lowest} lowest value and {highest} highest value.\");"
   ]
  },
  {
   "cell_type": "markdown",
   "metadata": {},
   "source": [
    " "
   ]
  },
  {
   "cell_type": "markdown",
   "metadata": {},
   "source": [
    "## Discussion"
   ]
  },
  {
   "cell_type": "markdown",
   "metadata": {},
   "source": [
    "I predicted that the average and standard deviation of the simulation of 100 rolls would be somewhat close to the expected value and standard deviation of the probability distribution for a 20 sided die. And, when running the simulation at n = 100, the average of 10.54 is, indeed, very close to the average for the probability distribution of 10.5.  Likewise, the simulation at n = 100 has a standard deviation of 5.8143  whereas the simulation for the probability distribution is 5.7663.\n",
    "\n",
    "The differences can be attributed to the fact that the simulation gives actual data, whereas the probability distribution is the theoretical way that we should expect when the data is known to follow this distribution. It is also important to note that the expected value of 10.5 does not appear on a 20-sided die as a possible outcome, because the die has only discrete integers, whereas the expected value is using continuous values.\n",
    "\n",
    "According to the Law of Large Numbers, as n gets larger, the average and standard deviation for the simulations should converge toward the expected value and standard deviation of the probability distribution for a 20 sided die. But, there is always randomness and/or bias, which is why the results of the simulations do not exactly match the probability distribution for the 20-sided die. Notice that with n = 200, the results from the simulation show an average of 10.34, which is not all that close to 10.5. Maybe the difference is just some random noise. However, the Python random number generator has the limitation of using a pseudo-random process, so maybe there is a slight non-randomness effect.\n",
    "\n",
    "But, when n is increased to 50,000, the average and the standard deviation are both very similar to those of the probability distribution. In summary, the simulation is a good way to illustrate how as large of a sample size as possible should be used in order to achieve results that are more reflective of the true probability distribution.\n",
    "\n",
    "If this were a real world situation in which the null hypothesis was that the population was evenly distributed between 20 outcomes, then the distributions of the sample into the 20 outcomes would need to be statistically tested (eg. using the chi-square test) to see if the sample of n = 100 represents a significantly different distribution."
   ]
  },
  {
   "cell_type": "markdown",
   "metadata": {},
   "source": [
    "Sample\n",
    "\n",
    "The average of 100 rolls of the die with a 20-sided die is 10.54.\n",
    "\n",
    "The standard deviation of the sample of 100 rolls of the die with a 20-sided die is 5.81433269141564.\n",
    "Using the built-in standard deviation function for a sample, the standard deviation is 5.814332691415641.\n",
    "\n",
    "\n",
    "\n",
    "The average of 5 rolls of the die with a 20-sided die is 11.4.\n",
    "The standard deviation of the sample of 5 rolls of the die with a 20-sided die is 5.319774431308154.\n",
    "\n",
    "\n",
    "The average of 50 rolls of the die with a 20-sided die is 10.46.\n",
    "The standard deviation of the sample of 50 rolls of the die with a 20-sided die is 5.614158486381025.\n",
    "\n",
    "\n",
    "The average of 200 rolls of the die with a 20-sided die is 10.34.\n",
    "The standard deviation of the sample of 200 rolls of the die with a 20-sided die is 5.741885250608532.\n",
    "\n",
    "\n",
    "\n",
    "The average of 1000 rolls of the die with a 20-sided die is 10.455.\n",
    "The standard deviation of the sample of 1000 rolls of the die with a 20-sided die is 5.86484197326503.\n",
    "\n",
    "\n",
    "\n",
    "The average of 50000 rolls of the die with a 20-sided die is 10.49568.\n",
    "The standard deviation of the sample of 50000 rolls of the die with a 20-sided die is 5.761392645055505.\n",
    "\n"
   ]
  },
  {
   "cell_type": "markdown",
   "metadata": {},
   "source": [
    " "
   ]
  },
  {
   "cell_type": "markdown",
   "metadata": {},
   "source": [
    "## Extension Exercise"
   ]
  },
  {
   "cell_type": "markdown",
   "metadata": {},
   "source": [
    "### _Chi-square test_\n",
    "### -------------------------\n",
    "### Use the n=100 sample die rolls to represent outcomes from an experiment where subjects fall into 20 different outcomes.\n",
    "### Test to see if the results are significantly different than the null hypothesis of equal frequency of all 20 possible outcomes."
   ]
  },
  {
   "cell_type": "code",
   "execution_count": 34,
   "metadata": {},
   "outputs": [],
   "source": [
    "# Import libraries\n",
    "import scipy.stats as stats"
   ]
  },
  {
   "cell_type": "code",
   "execution_count": 35,
   "metadata": {},
   "outputs": [],
   "source": [
    "# Set n back to 100\n",
    "n = 100"
   ]
  },
  {
   "cell_type": "code",
   "execution_count": 36,
   "metadata": {},
   "outputs": [],
   "source": [
    "# Create and populate a list of the expected counts for each possible outcome \n",
    "\n",
    "# Initialize the list\n",
    "expectedCounts  = []\n",
    "\n",
    "# Compute the (equal) number of times each possible outcome would occur\n",
    "expected =  n / sides\n",
    "expected = int(expected)\n",
    "\n",
    "\n",
    "# Populate the list of expected counts for each outcome\n",
    "for e in range(sides):\n",
    "     expectedCounts.append(expected)"
   ]
  },
  {
   "cell_type": "code",
   "execution_count": 37,
   "metadata": {},
   "outputs": [],
   "source": [
    "# Now, populate the list with the actual counts of the outcomes\n",
    "\n",
    "# Call function to rerun the 100 die rolls and store in a list\n",
    "# The function can be reran with identical results because the seed was recorded at the start\n",
    "rollsList_100 = RollDieFunction(n)\n",
    "\n",
    "# Initialize the list to hold the counts\n",
    "actualCounts = []\n",
    "\n",
    "# Count occurences of each outcome and populate the list\n",
    "for g in range(sides):\n",
    "        outcomeCount = rollsList_100.count(g + 1)\n",
    "        actualCounts.append(outcomeCount)"
   ]
  },
  {
   "cell_type": "code",
   "execution_count": 38,
   "metadata": {},
   "outputs": [
    {
     "data": {
      "text/plain": [
       "Power_divergenceResult(statistic=14.8, pvalue=0.7352213365317226)"
      ]
     },
     "execution_count": 38,
     "metadata": {},
     "output_type": "execute_result"
    }
   ],
   "source": [
    "# now run the chi-square test\n",
    "stats.chisquare(actualCounts, expectedCounts)"
   ]
  },
  {
   "cell_type": "markdown",
   "metadata": {},
   "source": [
    "### The p value of 0.684 is greater than 0.05, so there is no evidence suggesting that the distribution of\n",
    "### outcomes in the sample of 100 is different from the null hypothesis of equal likelihood for all outcomes."
   ]
  }
 ],
 "metadata": {
  "kernelspec": {
   "display_name": "Python 3",
   "language": "python",
   "name": "python3"
  },
  "language_info": {
   "codemirror_mode": {
    "name": "ipython",
    "version": 3
   },
   "file_extension": ".py",
   "mimetype": "text/x-python",
   "name": "python",
   "nbconvert_exporter": "python",
   "pygments_lexer": "ipython3",
   "version": "3.7.2"
  }
 },
 "nbformat": 4,
 "nbformat_minor": 2
}
